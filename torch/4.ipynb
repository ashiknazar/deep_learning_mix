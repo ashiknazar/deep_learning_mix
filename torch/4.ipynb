{
 "cells": [
  {
   "cell_type": "markdown",
   "metadata": {},
   "source": [
    "```python\n",
    "class LinearRegressionModelV2(nn.Module):\n",
    "    def __init__(self):\n",
    "        super().__init__()\n",
    "        #use nn.Linear() for creating the model parameters\n",
    "        #infeatures=input=1 (x) outfeatures=1(y)\n",
    "        self.linear_layer=nn.Linear(in_features=1,out_features=1)\n",
    "    def forward(self,x:torch.Tensor)->torch.Tensor: \n",
    "        return self.linear_layer(x)\n",
    "\n",
    "torch.manual_seed(42)\n",
    "model1=LinearRegressionModelV2()\n",
    "model1.state_dict()"
   ]
  }
 ],
 "metadata": {
  "language_info": {
   "name": "python"
  }
 },
 "nbformat": 4,
 "nbformat_minor": 2
}
