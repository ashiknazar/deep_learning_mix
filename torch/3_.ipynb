{
 "cells": [
  {
   "cell_type": "markdown",
   "metadata": {},
   "source": [
    "- torch.save()\n",
    "- torch.load()"
   ]
  },
  {
   "cell_type": "markdown",
   "metadata": {},
   "source": [
    "```python\n",
    "from pathlib import Path\n",
    "model_path=Path(\"models\")\n",
    "model_path.mkdir(parents=True,exist_ok=True)\n",
    "model_name=\"01_pytmodel.pth\" #or .pt\n",
    "model_save_path=model_path/model_name\n",
    "\n",
    "torch.save(obj=model.state_dict(),f=model_save_path)"
   ]
  },
  {
   "cell_type": "markdown",
   "metadata": {},
   "source": [
    "```python\n",
    "first intialize mmodel\n",
    "loaded_model=LinearRegressionModel()\n",
    "loaded_model.state_dict()\n",
    "loaded_model.load_state_dict(torch.load(f=model_save_path))"
   ]
  },
  {
   "cell_type": "markdown",
   "metadata": {},
   "source": []
  }
 ],
 "metadata": {
  "language_info": {
   "name": "python"
  }
 },
 "nbformat": 4,
 "nbformat_minor": 2
}
