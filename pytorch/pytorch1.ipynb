{
 "cells": [
  {
   "cell_type": "markdown",
   "metadata": {
    "id": "FAZ3nZF1g8y7"
   },
   "source": [
    "\n",
    "In Python, import torch refers to the main PyTorch library. However, \"PyTorch\" is the name of the overall framework, while \"torch\" is the actual package name used when importing in code"
   ]
  },
  {
   "cell_type": "code",
   "execution_count": 1,
   "metadata": {
    "id": "Yaf9NtvOX9uV"
   },
   "outputs": [],
   "source": [
    "import torch\n",
    "import pandas as pd\n",
    "import numpy as np\n",
    "import matplotlib.pyplot as plt\n"
   ]
  },
  {
   "cell_type": "code",
   "execution_count": 2,
   "metadata": {
    "colab": {
     "base_uri": "https://localhost:8080/"
    },
    "id": "COHA4yjmX4fB",
    "outputId": "ed6ab4bb-9e3d-41e5-f27d-0b85250432a2"
   },
   "outputs": [
    {
     "data": {
      "text/plain": [
       "tensor(7)"
      ]
     },
     "execution_count": 2,
     "metadata": {},
     "output_type": "execute_result"
    }
   ],
   "source": [
    "scalar=torch.tensor(7)\n",
    "scalar"
   ]
  },
  {
   "cell_type": "code",
   "execution_count": 3,
   "metadata": {
    "colab": {
     "base_uri": "https://localhost:8080/"
    },
    "id": "MAcYlTshYhKN",
    "outputId": "b7fcb84d-ddc5-4392-e125-38b2854b01df"
   },
   "outputs": [
    {
     "data": {
      "text/plain": [
       "torch.int64"
      ]
     },
     "execution_count": 3,
     "metadata": {},
     "output_type": "execute_result"
    }
   ],
   "source": [
    "scalar.dtype"
   ]
  },
  {
   "cell_type": "code",
   "execution_count": 6,
   "metadata": {
    "colab": {
     "base_uri": "https://localhost:8080/"
    },
    "id": "HvmYzi6JYl4N",
    "outputId": "a710fa56-0661-4166-c227-0acda234de12"
   },
   "outputs": [
    {
     "data": {
      "text/plain": [
       "7"
      ]
     },
     "execution_count": 6,
     "metadata": {},
     "output_type": "execute_result"
    }
   ],
   "source": [
    "scalar.item()"
   ]
  },
  {
   "cell_type": "code",
   "execution_count": 7,
   "metadata": {
    "colab": {
     "base_uri": "https://localhost:8080/"
    },
    "id": "kRIFG9QgZF_r",
    "outputId": "388e51f7-fc7c-478f-bbd0-754d2a79c15a"
   },
   "outputs": [
    {
     "data": {
      "text/plain": [
       "tensor([7, 7])"
      ]
     },
     "execution_count": 7,
     "metadata": {},
     "output_type": "execute_result"
    }
   ],
   "source": [
    "vec=torch.tensor([7,7])\n",
    "vec\n"
   ]
  },
  {
   "cell_type": "code",
   "execution_count": 8,
   "metadata": {
    "colab": {
     "base_uri": "https://localhost:8080/"
    },
    "id": "Jwroot86ZNK_",
    "outputId": "ba6f1d8d-9d45-4245-adb8-153a9619d2fe"
   },
   "outputs": [
    {
     "data": {
      "text/plain": [
       "torch.Size([2])"
      ]
     },
     "execution_count": 8,
     "metadata": {},
     "output_type": "execute_result"
    }
   ],
   "source": [
    "vec.shape"
   ]
  },
  {
   "cell_type": "code",
   "execution_count": 10,
   "metadata": {
    "colab": {
     "base_uri": "https://localhost:8080/"
    },
    "id": "WjkkOmAHZTwT",
    "outputId": "958b28ed-f574-4e6a-a107-726101364001"
   },
   "outputs": [
    {
     "data": {
      "text/plain": [
       "tensor([[4, 6],\n",
       "        [8, 7]])"
      ]
     },
     "execution_count": 10,
     "metadata": {},
     "output_type": "execute_result"
    }
   ],
   "source": [
    "matrix=torch.tensor([[4,6],\n",
    "                     [8,7]])\n",
    "matrix"
   ]
  },
  {
   "cell_type": "code",
   "execution_count": 11,
   "metadata": {
    "colab": {
     "base_uri": "https://localhost:8080/"
    },
    "id": "6jGrxUHqZiaS",
    "outputId": "84d0e69a-179f-4ccc-b4a1-1716fccc37e9"
   },
   "outputs": [
    {
     "data": {
      "text/plain": [
       "tensor([4, 6])"
      ]
     },
     "execution_count": 11,
     "metadata": {},
     "output_type": "execute_result"
    }
   ],
   "source": [
    "matrix[0]"
   ]
  },
  {
   "cell_type": "markdown",
   "metadata": {
    "id": "iO_xO4KZZ5XK"
   },
   "source": [
    "**Random tensors**"
   ]
  },
  {
   "cell_type": "code",
   "execution_count": 13,
   "metadata": {
    "colab": {
     "base_uri": "https://localhost:8080/"
    },
    "id": "kgJlOHFlZ2oo",
    "outputId": "2f80ea6d-9854-4489-c7b3-fcd5abf90710"
   },
   "outputs": [
    {
     "data": {
      "text/plain": [
       "tensor([[0.8306, 0.2442, 0.0931, 0.5541],\n",
       "        [0.7526, 0.3301, 0.4390, 0.8991],\n",
       "        [0.9216, 0.9267, 0.6493, 0.2260]])"
      ]
     },
     "execution_count": 13,
     "metadata": {},
     "output_type": "execute_result"
    }
   ],
   "source": [
    "rand_tens=torch.rand(3,4)\n",
    "rand_tens"
   ]
  },
  {
   "cell_type": "code",
   "execution_count": 15,
   "metadata": {
    "colab": {
     "base_uri": "https://localhost:8080/"
    },
    "id": "WTFEwCiXaF93",
    "outputId": "357e5beb-d2c0-402f-d555-28667be7bbe9"
   },
   "outputs": [
    {
     "name": "stdout",
     "output_type": "stream",
     "text": [
      "torch.Size([224, 224, 3])\n",
      "3\n"
     ]
    }
   ],
   "source": [
    "rand_img=torch.rand(size=(224,224,3))\n",
    "print(rand_img.shape)\n",
    "print(rand_img.ndim)"
   ]
  },
  {
   "cell_type": "code",
   "execution_count": 17,
   "metadata": {
    "colab": {
     "base_uri": "https://localhost:8080/"
    },
    "id": "RRdqMNOVasJy",
    "outputId": "8ad7b80f-30e1-48a9-c870-ca9dd4d099a3"
   },
   "outputs": [
    {
     "name": "stdout",
     "output_type": "stream",
     "text": [
      "tensor([[0., 0., 0., 0.],\n",
      "        [0., 0., 0., 0.],\n",
      "        [0., 0., 0., 0.]])\n",
      "tensor([[1., 1., 1., 1.],\n",
      "        [1., 1., 1., 1.],\n",
      "        [1., 1., 1., 1.]])\n"
     ]
    }
   ],
   "source": [
    "zero=torch.zeros(size=(3,4))\n",
    "print(zero)\n",
    "ones=torch.ones(size=(3,4))\n",
    "print(ones)"
   ]
  },
  {
   "cell_type": "code",
   "execution_count": 18,
   "metadata": {
    "colab": {
     "base_uri": "https://localhost:8080/"
    },
    "id": "OxyC9nnpbfMh",
    "outputId": "0161bd80-6b0a-471c-af2f-727113bb5abe"
   },
   "outputs": [
    {
     "data": {
      "text/plain": [
       "torch.float32"
      ]
     },
     "execution_count": 18,
     "metadata": {},
     "output_type": "execute_result"
    }
   ],
   "source": [
    "ones.dtype"
   ]
  },
  {
   "cell_type": "code",
   "execution_count": 21,
   "metadata": {
    "id": "0dGUQLspb1OM"
   },
   "outputs": [],
   "source": [
    "import tensorflow as tf\n",
    "on=tf.ones([3,4])"
   ]
  },
  {
   "cell_type": "code",
   "execution_count": 22,
   "metadata": {
    "colab": {
     "base_uri": "https://localhost:8080/"
    },
    "id": "U3JH5eRncBhX",
    "outputId": "e3652555-4aee-4b3d-afc4-9f254f18bb0d"
   },
   "outputs": [
    {
     "data": {
      "text/plain": [
       "<tf.Tensor: shape=(3, 4), dtype=float32, numpy=\n",
       "array([[1., 1., 1., 1.],\n",
       "       [1., 1., 1., 1.],\n",
       "       [1., 1., 1., 1.]], dtype=float32)>"
      ]
     },
     "execution_count": 22,
     "metadata": {},
     "output_type": "execute_result"
    }
   ],
   "source": [
    "on"
   ]
  },
  {
   "cell_type": "code",
   "execution_count": 24,
   "metadata": {
    "colab": {
     "base_uri": "https://localhost:8080/"
    },
    "id": "4hfVIvs8cDXA",
    "outputId": "54eae5cf-da93-45df-b855-de84589d0fe5"
   },
   "outputs": [
    {
     "data": {
      "text/plain": [
       "False"
      ]
     },
     "execution_count": 24,
     "metadata": {},
     "output_type": "execute_result"
    }
   ],
   "source": [
    "on.dtype==ones.dtype"
   ]
  },
  {
   "cell_type": "code",
   "execution_count": null,
   "metadata": {
    "id": "UL7zYfwEcJ19"
   },
   "outputs": [],
   "source": [
    "# Create a PyTorch tensor\n",
    "torch_tensor = torch.tensor([[1, 2], [3, 4]])\n",
    "\n",
    "# Convert to NumPy\n",
    "numpy_array = torch_tensor.numpy()\n",
    "\n",
    "# Convert to TensorFlow tensor\n",
    "tf_tensor = tf.convert_to_tensor(numpy_array)"
   ]
  },
  {
   "cell_type": "code",
   "execution_count": null,
   "metadata": {
    "id": "bdR9iwluc90N"
   },
   "outputs": [],
   "source": [
    "\n",
    "# Create a TensorFlow tensor\n",
    "tf_tensor = tf.constant([[1, 2], [3, 4]])\n",
    "\n",
    "# Convert to NumPy\n",
    "numpy_array = tf_tensor.numpy()\n",
    "\n",
    "# Convert to PyTorch tensor\n",
    "torch_tensor = torch.from_numpy(numpy_array)\n"
   ]
  },
  {
   "cell_type": "markdown",
   "metadata": {
    "id": "hfb1UT1CdFZQ"
   },
   "source": [
    "**Using NumPy as an intermediary is a common approach, but it's not strictly necessary.**"
   ]
  },
  {
   "cell_type": "markdown",
   "metadata": {
    "id": "N9P_VzLddWnc"
   },
   "source": [
    "**Range**"
   ]
  },
  {
   "cell_type": "code",
   "execution_count": 26,
   "metadata": {
    "colab": {
     "base_uri": "https://localhost:8080/"
    },
    "id": "2QAJN70OdPC8",
    "outputId": "87571727-f481-47e3-8185-c9fb79b8c3b8"
   },
   "outputs": [
    {
     "data": {
      "text/plain": [
       "tensor([0, 1, 2, 3, 4, 5, 6, 7, 8, 9])"
      ]
     },
     "execution_count": 26,
     "metadata": {},
     "output_type": "execute_result"
    }
   ],
   "source": [
    "torch.arange(0,10)"
   ]
  },
  {
   "cell_type": "code",
   "execution_count": 27,
   "metadata": {
    "id": "4roTZjfmdg7t"
   },
   "outputs": [],
   "source": [
    "dat=torch.arange(start=0,end=1000,step=77)"
   ]
  },
  {
   "cell_type": "code",
   "execution_count": 29,
   "metadata": {
    "colab": {
     "base_uri": "https://localhost:8080/"
    },
    "id": "a3o8PTPpdu__",
    "outputId": "d26c4cfa-843d-4bbc-d8bb-4a4fd2a969dd"
   },
   "outputs": [
    {
     "data": {
      "text/plain": [
       "tensor([  0,  77, 154, 231, 308, 385, 462, 539, 616, 693, 770, 847, 924])"
      ]
     },
     "execution_count": 29,
     "metadata": {},
     "output_type": "execute_result"
    }
   ],
   "source": [
    "dat"
   ]
  },
  {
   "cell_type": "code",
   "execution_count": 30,
   "metadata": {
    "colab": {
     "base_uri": "https://localhost:8080/"
    },
    "id": "dAO435EHdwYQ",
    "outputId": "f8576afc-7a12-4de6-bed0-e5afcc66115a"
   },
   "outputs": [
    {
     "name": "stdout",
     "output_type": "stream",
     "text": [
      "tensor([0, 0, 0, 0, 0, 0, 0, 0, 0, 0, 0, 0, 0])\n"
     ]
    }
   ],
   "source": [
    "ten_zeros=torch.zeros_like(input=dat)\n",
    "print(ten_zeros)"
   ]
  },
  {
   "cell_type": "markdown",
   "metadata": {
    "id": "juGg6g6PeLY9"
   },
   "source": [
    "**tensor datatypes**"
   ]
  },
  {
   "cell_type": "code",
   "execution_count": 31,
   "metadata": {
    "id": "Z1_aWW65d8zV"
   },
   "outputs": [],
   "source": [
    "float_32_tensor=torch.tensor([3.0,6.0,9.0],dtype=None)"
   ]
  },
  {
   "cell_type": "code",
   "execution_count": 33,
   "metadata": {
    "colab": {
     "base_uri": "https://localhost:8080/"
    },
    "id": "8i8qwdA_eYS8",
    "outputId": "3f81d882-762d-4fae-fba4-c9bdc4e56dad"
   },
   "outputs": [
    {
     "data": {
      "text/plain": [
       "torch.float32"
      ]
     },
     "execution_count": 33,
     "metadata": {},
     "output_type": "execute_result"
    }
   ],
   "source": [
    "float_32_tensor.dtype"
   ]
  },
  {
   "cell_type": "code",
   "execution_count": 34,
   "metadata": {
    "colab": {
     "base_uri": "https://localhost:8080/"
    },
    "id": "3SOwbnIyebDx",
    "outputId": "76560139-35ce-4431-e687-ba551f544edc"
   },
   "outputs": [
    {
     "data": {
      "text/plain": [
       "tensor([3., 6., 9.], dtype=torch.float16)"
      ]
     },
     "execution_count": 34,
     "metadata": {},
     "output_type": "execute_result"
    }
   ],
   "source": [
    " float_16_tensor=torch.tensor([3.0,6.0,9.0],dtype=torch.float16)\n",
    " float_16_tensor"
   ]
  },
  {
   "cell_type": "code",
   "execution_count": 36,
   "metadata": {
    "id": "99yBknYCeqoI"
   },
   "outputs": [],
   "source": [
    "float_32_tensor=torch.tensor([3.0,6.0,9.0],dtype=None,\n",
    "                             device=None,\n",
    "                             requires_grad=False)\n"
   ]
  },
  {
   "cell_type": "code",
   "execution_count": 37,
   "metadata": {
    "colab": {
     "base_uri": "https://localhost:8080/"
    },
    "id": "WzxCWKglfDMn",
    "outputId": "af18fb21-637e-4d90-ccd2-6e7337524f93"
   },
   "outputs": [
    {
     "data": {
      "text/plain": [
       "tensor([3., 6., 9.])"
      ]
     },
     "execution_count": 37,
     "metadata": {},
     "output_type": "execute_result"
    }
   ],
   "source": [
    "float_32_tensor"
   ]
  },
  {
   "cell_type": "markdown",
   "metadata": {
    "id": "jBiV7G00fecZ"
   },
   "source": [
    "requires_grad=False<br>\n",
    "pytorch to track gradients of tensor when under goes some numerical calculations"
   ]
  },
  {
   "cell_type": "code",
   "execution_count": 38,
   "metadata": {
    "colab": {
     "base_uri": "https://localhost:8080/"
    },
    "id": "At2gPprqfJoy",
    "outputId": "16ef0821-cfd8-4982-e018-f56766a108dd"
   },
   "outputs": [
    {
     "data": {
      "text/plain": [
       "tensor([3., 6., 9.], dtype=torch.float16)"
      ]
     },
     "execution_count": 38,
     "metadata": {},
     "output_type": "execute_result"
    }
   ],
   "source": [
    " fl_16=float_32_tensor.type(torch.float16)\n",
    " fl_16"
   ]
  },
  {
   "cell_type": "markdown",
   "metadata": {
    "id": "bUE9qp9BhkG9"
   },
   "source": [
    "**math operations**"
   ]
  },
  {
   "cell_type": "code",
   "execution_count": 43,
   "metadata": {
    "colab": {
     "base_uri": "https://localhost:8080/"
    },
    "id": "hzxbtmOvh32U",
    "outputId": "0a0b7209-0cac-4014-bfb4-2180914a689c"
   },
   "outputs": [
    {
     "data": {
      "text/plain": [
       "tensor([3., 6., 9.], dtype=torch.float16)"
      ]
     },
     "execution_count": 43,
     "metadata": {},
     "output_type": "execute_result"
    }
   ],
   "source": [
    "fl_16"
   ]
  },
  {
   "cell_type": "code",
   "execution_count": 40,
   "metadata": {
    "colab": {
     "base_uri": "https://localhost:8080/"
    },
    "id": "eYKvUwEogAMc",
    "outputId": "51d1df8b-dc17-4816-ea47-b35336358140"
   },
   "outputs": [
    {
     "data": {
      "text/plain": [
       "tensor([30., 60., 90.], dtype=torch.float16)"
      ]
     },
     "execution_count": 40,
     "metadata": {},
     "output_type": "execute_result"
    }
   ],
   "source": [
    "fl_16*10"
   ]
  },
  {
   "cell_type": "code",
   "execution_count": 41,
   "metadata": {
    "colab": {
     "base_uri": "https://localhost:8080/"
    },
    "id": "qDYkEon-hrQO",
    "outputId": "e6b0020c-5494-44ed-c4e2-8b53577c4b7a"
   },
   "outputs": [
    {
     "data": {
      "text/plain": [
       "tensor([-7., -4., -1.], dtype=torch.float16)"
      ]
     },
     "execution_count": 41,
     "metadata": {},
     "output_type": "execute_result"
    }
   ],
   "source": [
    "fl_16-10"
   ]
  },
  {
   "cell_type": "code",
   "execution_count": 42,
   "metadata": {
    "colab": {
     "base_uri": "https://localhost:8080/"
    },
    "id": "-Os34dN-hwz5",
    "outputId": "dd85d5b0-b8cc-4df5-af4a-5b59bd49962a"
   },
   "outputs": [
    {
     "data": {
      "text/plain": [
       "tensor([10., 13., 16.], dtype=torch.float16)"
      ]
     },
     "execution_count": 42,
     "metadata": {},
     "output_type": "execute_result"
    }
   ],
   "source": [
    "fl_16+7"
   ]
  },
  {
   "cell_type": "code",
   "execution_count": null,
   "metadata": {
    "id": "ic3YwCSEiClQ"
   },
   "outputs": [],
   "source": []
  },
  {
   "cell_type": "code",
   "execution_count": null,
   "metadata": {
    "id": "Toe0QOPIhz6c"
   },
   "outputs": [],
   "source": [
    "#elementwise multiplication\n",
    "# tensor * tensor\n",
    "\n",
    "#matrix multiplication\n",
    "#torch.matmul(tensor,tensor)\n"
   ]
  },
  {
   "cell_type": "markdown",
   "metadata": {
    "id": "fu49WJfMibMQ"
   },
   "source": [
    "**shape error is common**\n",
    "- inner dimensions must match"
   ]
  },
  {
   "cell_type": "markdown",
   "metadata": {
    "id": "Pm1bKZjVjcEl"
   },
   "source": [
    "## aggregations"
   ]
  },
  {
   "cell_type": "code",
   "execution_count": 66,
   "metadata": {
    "id": "EK-RXpDHigVL"
   },
   "outputs": [],
   "source": [
    "x=torch.arange(0,100,10)"
   ]
  },
  {
   "cell_type": "code",
   "execution_count": 46,
   "metadata": {
    "colab": {
     "base_uri": "https://localhost:8080/"
    },
    "id": "GdsDlS33jjLP",
    "outputId": "4e203ffa-4847-4ac5-d571-469adbcb56e1"
   },
   "outputs": [
    {
     "name": "stdout",
     "output_type": "stream",
     "text": [
      "tensor([ 0, 10, 20, 30, 40, 50, 60, 70, 80, 90])\n",
      "tensor(0)\n",
      "tensor(0)\n"
     ]
    }
   ],
   "source": [
    "print(x)\n",
    "print(torch.min(x))\n",
    "print(x.min())"
   ]
  },
  {
   "cell_type": "code",
   "execution_count": 47,
   "metadata": {
    "colab": {
     "base_uri": "https://localhost:8080/"
    },
    "id": "3odIk_2vjmVA",
    "outputId": "f5703e2e-f863-41b4-d9e2-08fa1852dc42"
   },
   "outputs": [
    {
     "data": {
      "text/plain": [
       "tensor(90)"
      ]
     },
     "execution_count": 47,
     "metadata": {},
     "output_type": "execute_result"
    }
   ],
   "source": [
    "torch.max(x)"
   ]
  },
  {
   "cell_type": "code",
   "execution_count": 49,
   "metadata": {
    "colab": {
     "base_uri": "https://localhost:8080/",
     "height": 176
    },
    "id": "lADf8PdJj137",
    "outputId": "db2903d7-f1d9-476c-d420-8aef29be9bef"
   },
   "outputs": [
    {
     "ename": "RuntimeError",
     "evalue": "mean(): could not infer output dtype. Input dtype must be either a floating point or complex dtype. Got: Long",
     "output_type": "error",
     "traceback": [
      "\u001b[0;31m---------------------------------------------------------------------------\u001b[0m",
      "\u001b[0;31mRuntimeError\u001b[0m                              Traceback (most recent call last)",
      "\u001b[0;32m<ipython-input-49-67cd7206dab6>\u001b[0m in \u001b[0;36m<cell line: 1>\u001b[0;34m()\u001b[0m\n\u001b[0;32m----> 1\u001b[0;31m \u001b[0mtorch\u001b[0m\u001b[0;34m.\u001b[0m\u001b[0mmean\u001b[0m\u001b[0;34m(\u001b[0m\u001b[0mx\u001b[0m\u001b[0;34m)\u001b[0m\u001b[0;34m\u001b[0m\u001b[0;34m\u001b[0m\u001b[0m\n\u001b[0m\u001b[1;32m      2\u001b[0m \u001b[0;31m#int64 is Long - torch wont work\u001b[0m\u001b[0;34m\u001b[0m\u001b[0;34m\u001b[0m\u001b[0m\n",
      "\u001b[0;31mRuntimeError\u001b[0m: mean(): could not infer output dtype. Input dtype must be either a floating point or complex dtype. Got: Long"
     ]
    }
   ],
   "source": [
    "torch.mean(x)\n",
    "#int64 is Long - torch wont work"
   ]
  },
  {
   "cell_type": "code",
   "execution_count": 50,
   "metadata": {
    "colab": {
     "base_uri": "https://localhost:8080/"
    },
    "id": "X3ZUIN52kArM",
    "outputId": "9be2a819-f1b6-4974-fa72-53466cb4d406"
   },
   "outputs": [
    {
     "data": {
      "text/plain": [
       "tensor(45.)"
      ]
     },
     "execution_count": 50,
     "metadata": {},
     "output_type": "execute_result"
    }
   ],
   "source": [
    "torch.mean(x.type(torch.float32))"
   ]
  },
  {
   "cell_type": "code",
   "execution_count": 51,
   "metadata": {
    "colab": {
     "base_uri": "https://localhost:8080/"
    },
    "id": "f2LdkGHNkn-M",
    "outputId": "cf671394-b852-4547-ca0a-7c0cc3444a8c"
   },
   "outputs": [
    {
     "data": {
      "text/plain": [
       "tensor(45.)"
      ]
     },
     "execution_count": 51,
     "metadata": {},
     "output_type": "execute_result"
    }
   ],
   "source": [
    "x.type(torch.float32).mean()"
   ]
  },
  {
   "cell_type": "code",
   "execution_count": 53,
   "metadata": {
    "colab": {
     "base_uri": "https://localhost:8080/"
    },
    "id": "8oitb9i5kxjf",
    "outputId": "5b92faed-6c68-4042-a8ac-97e58bc7874a"
   },
   "outputs": [
    {
     "data": {
      "text/plain": [
       "tensor(450)"
      ]
     },
     "execution_count": 53,
     "metadata": {},
     "output_type": "execute_result"
    }
   ],
   "source": [
    "torch.sum(x)\n",
    "#x.sum()"
   ]
  },
  {
   "cell_type": "markdown",
   "metadata": {
    "id": "GcsE2pE7lAZl"
   },
   "source": [
    "### Positional min and max\n",
    " - argmax,argmin"
   ]
  },
  {
   "cell_type": "code",
   "execution_count": 54,
   "metadata": {
    "colab": {
     "base_uri": "https://localhost:8080/"
    },
    "id": "tpFEdaUXk4U6",
    "outputId": "88da0262-fd5b-4e0e-e61f-5c484bf75bfd"
   },
   "outputs": [
    {
     "data": {
      "text/plain": [
       "tensor(0)"
      ]
     },
     "execution_count": 54,
     "metadata": {},
     "output_type": "execute_result"
    }
   ],
   "source": [
    "x.argmin()"
   ]
  },
  {
   "cell_type": "code",
   "execution_count": 55,
   "metadata": {
    "colab": {
     "base_uri": "https://localhost:8080/"
    },
    "id": "xb2RBPOJlTad",
    "outputId": "327e2129-12cf-43b5-b6e8-85255cf52d0c"
   },
   "outputs": [
    {
     "data": {
      "text/plain": [
       "tensor(9)"
      ]
     },
     "execution_count": 55,
     "metadata": {},
     "output_type": "execute_result"
    }
   ],
   "source": [
    "x.argmax()"
   ]
  },
  {
   "cell_type": "code",
   "execution_count": 56,
   "metadata": {
    "colab": {
     "base_uri": "https://localhost:8080/"
    },
    "id": "r6Bc0YEllnMy",
    "outputId": "8c06c8b5-8270-4a95-bf00-764d02735971"
   },
   "outputs": [
    {
     "data": {
      "text/plain": [
       "tensor(90)"
      ]
     },
     "execution_count": 56,
     "metadata": {},
     "output_type": "execute_result"
    }
   ],
   "source": [
    "x[9]"
   ]
  },
  {
   "cell_type": "markdown",
   "metadata": {
    "id": "ZndKEkRPl8nf"
   },
   "source": [
    "- Reshape\n",
    "- stacking\n",
    "- squeezing\n",
    "- unsqueezing"
   ]
  },
  {
   "cell_type": "code",
   "execution_count": 61,
   "metadata": {
    "colab": {
     "base_uri": "https://localhost:8080/"
    },
    "id": "d6XazXNblrDS",
    "outputId": "cb2d2b46-9c78-42a0-f475-1c0714789ade"
   },
   "outputs": [
    {
     "name": "stdout",
     "output_type": "stream",
     "text": [
      "tensor([ 0, 10, 20, 30, 40, 50, 60, 70, 80, 90])\n",
      "torch.Size([10])\n",
      "tensor([[ 0, 10, 20, 30, 40, 50, 60, 70, 80, 90]])\n",
      "tensor([[ 0],\n",
      "        [10],\n",
      "        [20],\n",
      "        [30],\n",
      "        [40],\n",
      "        [50],\n",
      "        [60],\n",
      "        [70],\n",
      "        [80],\n",
      "        [90]])\n",
      "tensor([ 0, 10, 20, 30, 40, 50, 60, 70, 80, 90])\n"
     ]
    }
   ],
   "source": [
    "print(x)\n",
    "print(x.shape)\n",
    "print(x.reshape(1,10))\n",
    "print(x.reshape(10,1))\n",
    "print(x)"
   ]
  },
  {
   "cell_type": "code",
   "execution_count": 67,
   "metadata": {
    "colab": {
     "base_uri": "https://localhost:8080/"
    },
    "id": "yp_tJtuhma__",
    "outputId": "a30e01ce-4171-4a5b-8ff6-7e965dc04101"
   },
   "outputs": [
    {
     "name": "stdout",
     "output_type": "stream",
     "text": [
      "tensor([ 0, 10, 20, 30, 40, 50, 60, 70, 80, 90])\n"
     ]
    },
    {
     "data": {
      "text/plain": [
       "(tensor([[ 5, 10, 20, 30, 40, 50, 60, 70, 80, 90]]),\n",
       " tensor([ 5, 10, 20, 30, 40, 50, 60, 70, 80, 90]))"
      ]
     },
     "execution_count": 67,
     "metadata": {},
     "output_type": "execute_result"
    }
   ],
   "source": [
    "#change view\n",
    "print(x)\n",
    "z=x.view(1,10)\n",
    "#view has memory with original tensor\n",
    "#changing z changes x\n",
    "z[:,0]=5\n",
    "z,x\n"
   ]
  },
  {
   "cell_type": "code",
   "execution_count": 68,
   "metadata": {
    "colab": {
     "base_uri": "https://localhost:8080/"
    },
    "id": "ujG38ld7nag-",
    "outputId": "797e58ff-02d4-465e-acf1-30ce9a0f9e25"
   },
   "outputs": [
    {
     "name": "stdout",
     "output_type": "stream",
     "text": [
      "tensor([[ 5, 10, 20, 30, 40, 50, 60, 70, 80, 90],\n",
      "        [ 5, 10, 20, 30, 40, 50, 60, 70, 80, 90],\n",
      "        [ 5, 10, 20, 30, 40, 50, 60, 70, 80, 90]])\n"
     ]
    }
   ],
   "source": [
    "#stack\n",
    "\n",
    "x_stacked=torch.stack([x,x,x])\n",
    "print(x_stacked)"
   ]
  },
  {
   "cell_type": "code",
   "execution_count": 69,
   "metadata": {
    "colab": {
     "base_uri": "https://localhost:8080/"
    },
    "id": "Qexgqx9qob3-",
    "outputId": "e97fb265-379e-4c1e-c66a-58e877aca80b"
   },
   "outputs": [
    {
     "name": "stdout",
     "output_type": "stream",
     "text": [
      "tensor([[ 5,  5,  5],\n",
      "        [10, 10, 10],\n",
      "        [20, 20, 20],\n",
      "        [30, 30, 30],\n",
      "        [40, 40, 40],\n",
      "        [50, 50, 50],\n",
      "        [60, 60, 60],\n",
      "        [70, 70, 70],\n",
      "        [80, 80, 80],\n",
      "        [90, 90, 90]])\n"
     ]
    }
   ],
   "source": [
    "x_stacked=torch.stack([x,x,x],dim=1)\n",
    "print(x_stacked)"
   ]
  },
  {
   "cell_type": "code",
   "execution_count": null,
   "metadata": {
    "id": "MnRVMw-7qSX3"
   },
   "outputs": [],
   "source": []
  },
  {
   "cell_type": "code",
   "execution_count": 82,
   "metadata": {
    "colab": {
     "base_uri": "https://localhost:8080/"
    },
    "id": "iMhWGWDjpMLH",
    "outputId": "05bba504-0731-4222-dfdf-955dd33c048f"
   },
   "outputs": [
    {
     "data": {
      "text/plain": [
       "tensor([[[ 5, 10, 20, 30, 40, 50, 60, 70, 80, 90]]])"
      ]
     },
     "execution_count": 82,
     "metadata": {},
     "output_type": "execute_result"
    }
   ],
   "source": [
    "x_reshaped=x.reshape(1,1,10)\n",
    "x_reshaped"
   ]
  },
  {
   "cell_type": "code",
   "execution_count": 83,
   "metadata": {
    "colab": {
     "base_uri": "https://localhost:8080/"
    },
    "id": "f3JFqqdCogpg",
    "outputId": "13f523da-aa10-4163-ebf1-000b4249ce2d"
   },
   "outputs": [
    {
     "name": "stdout",
     "output_type": "stream",
     "text": [
      "tensor([[[ 5, 10, 20, 30, 40, 50, 60, 70, 80, 90]]])\n",
      "tensor([ 5, 10, 20, 30, 40, 50, 60, 70, 80, 90])\n"
     ]
    }
   ],
   "source": [
    "#squeeze\n",
    "#removes all single dimentions from a target tensor\n",
    "print(x_reshaped)\n",
    "x_sqx=x_reshaped.squeeze()\n",
    "print(x_sqx)"
   ]
  },
  {
   "cell_type": "code",
   "execution_count": 84,
   "metadata": {
    "colab": {
     "base_uri": "https://localhost:8080/"
    },
    "id": "u2mbZk0Ho01t",
    "outputId": "cfc97425-b9be-4300-82b7-a60a535a82e6"
   },
   "outputs": [
    {
     "name": "stdout",
     "output_type": "stream",
     "text": [
      "tensor([[ 5, 10, 20, 30, 40, 50, 60, 70, 80, 90]])\n"
     ]
    }
   ],
   "source": [
    "#unsqueeze adds a single dimention to a target tensor at a specific dim\n",
    "x_unsq=x_sqx.unsqueeze(dim=0)\n",
    "print(x_unsq)"
   ]
  },
  {
   "cell_type": "code",
   "execution_count": 86,
   "metadata": {
    "colab": {
     "base_uri": "https://localhost:8080/"
    },
    "id": "1AmsAEu-qjAq",
    "outputId": "1fe2d9a7-ce30-4454-9866-c275a6b4cc53"
   },
   "outputs": [
    {
     "data": {
      "text/plain": [
       "torch.Size([2, 3, 5])"
      ]
     },
     "execution_count": 86,
     "metadata": {},
     "output_type": "execute_result"
    }
   ],
   "source": [
    "#permute\n",
    "x=torch.randn(2,3,5)\n",
    "x.size()"
   ]
  },
  {
   "cell_type": "code",
   "execution_count": 88,
   "metadata": {
    "colab": {
     "base_uri": "https://localhost:8080/"
    },
    "id": "Jq9RnX9UrVLC",
    "outputId": "654a339f-2e78-4da2-eca0-d51347c15fd8"
   },
   "outputs": [
    {
     "data": {
      "text/plain": [
       "torch.Size([5, 2, 3])"
      ]
     },
     "execution_count": 88,
     "metadata": {},
     "output_type": "execute_result"
    }
   ],
   "source": [
    "torch.permute(x,(2,0,1)).size() #change the order of dimentions 2 is now 0,0 is now 1 and 1 is now 2"
   ]
  },
  {
   "cell_type": "markdown",
   "metadata": {
    "id": "L66Oku0Xsy_9"
   },
   "source": [
    "**Indexing**\n",
    "- is similar to numpy indexing"
   ]
  },
  {
   "cell_type": "code",
   "execution_count": 89,
   "metadata": {
    "colab": {
     "base_uri": "https://localhost:8080/"
    },
    "id": "jlcZ02JRri0q",
    "outputId": "bb4a2577-852f-497e-a205-f2f5a25fae75"
   },
   "outputs": [
    {
     "data": {
      "text/plain": [
       "tensor([[[1, 2, 3],\n",
       "         [4, 5, 6],\n",
       "         [7, 8, 9]]])"
      ]
     },
     "execution_count": 89,
     "metadata": {},
     "output_type": "execute_result"
    }
   ],
   "source": [
    "x=torch.arange(1,10).reshape(1,3,3)\n",
    "x"
   ]
  },
  {
   "cell_type": "code",
   "execution_count": 90,
   "metadata": {
    "colab": {
     "base_uri": "https://localhost:8080/"
    },
    "id": "MWV8d8rjtJkK",
    "outputId": "a92a6893-dde8-4fef-92ed-ada9f852cc07"
   },
   "outputs": [
    {
     "data": {
      "text/plain": [
       "tensor([[1, 2, 3],\n",
       "        [4, 5, 6],\n",
       "        [7, 8, 9]])"
      ]
     },
     "execution_count": 90,
     "metadata": {},
     "output_type": "execute_result"
    }
   ],
   "source": [
    "x[0]"
   ]
  },
  {
   "cell_type": "code",
   "execution_count": 91,
   "metadata": {
    "colab": {
     "base_uri": "https://localhost:8080/"
    },
    "id": "NScz2Xl_tLe9",
    "outputId": "71a6a418-8c30-4449-e33d-d3691994fa94"
   },
   "outputs": [
    {
     "data": {
      "text/plain": [
       "tensor([1, 2, 3])"
      ]
     },
     "execution_count": 91,
     "metadata": {},
     "output_type": "execute_result"
    }
   ],
   "source": [
    "x[0][0]"
   ]
  },
  {
   "cell_type": "code",
   "execution_count": 93,
   "metadata": {
    "colab": {
     "base_uri": "https://localhost:8080/"
    },
    "id": "nGZVABgEtWis",
    "outputId": "939a9690-2e91-4605-d4f4-5e1172b7e4e2"
   },
   "outputs": [
    {
     "data": {
      "text/plain": [
       "tensor([[1, 4, 7]])"
      ]
     },
     "execution_count": 93,
     "metadata": {},
     "output_type": "execute_result"
    }
   ],
   "source": [
    "x[:,:,0]"
   ]
  },
  {
   "cell_type": "markdown",
   "metadata": {
    "id": "eQ503RojvWH4"
   },
   "source": [
    "**Reproducbility**"
   ]
  },
  {
   "cell_type": "code",
   "execution_count": 99,
   "metadata": {
    "colab": {
     "base_uri": "https://localhost:8080/"
    },
    "id": "ihQyOlugtpuI",
    "outputId": "1850bd66-ec30-4d20-d35e-178323a6e26d"
   },
   "outputs": [
    {
     "name": "stdout",
     "output_type": "stream",
     "text": [
      "tensor([[0.4540, 0.1965, 0.9210, 0.3462],\n",
      "        [0.1481, 0.0858, 0.5909, 0.0659],\n",
      "        [0.7476, 0.6253, 0.9392, 0.1338]])\n",
      "tensor([[0.4540, 0.1965, 0.9210, 0.3462],\n",
      "        [0.1481, 0.0858, 0.5909, 0.0659],\n",
      "        [0.7476, 0.6253, 0.9392, 0.1338]])\n"
     ]
    }
   ],
   "source": [
    "random_seed=43\n",
    "torch.manual_seed(random_seed)\n",
    "rand_a=torch.rand(3,4)\n",
    "\n",
    "torch.manual_seed(random_seed)\n",
    "rand_b=torch.rand(3,4)\n",
    "print(rand_a)\n",
    "print(rand_b)"
   ]
  },
  {
   "cell_type": "markdown",
   "metadata": {
    "id": "gIPvWKIKwJde"
   },
   "source": [
    "**gpu**"
   ]
  },
  {
   "cell_type": "markdown",
   "metadata": {
    "id": "l0ZWy8DkwUDX"
   },
   "source": [
    "- change runtime type to gpu in colab (if working in colab)"
   ]
  },
  {
   "cell_type": "code",
   "execution_count": 1,
   "metadata": {
    "colab": {
     "base_uri": "https://localhost:8080/"
    },
    "id": "LU93UBRFvm-2",
    "outputId": "e421a353-59eb-486b-a242-2c8ec6942188"
   },
   "outputs": [
    {
     "name": "stdout",
     "output_type": "stream",
     "text": [
      "Wed Oct  9 05:31:02 2024       \n",
      "+---------------------------------------------------------------------------------------+\n",
      "| NVIDIA-SMI 535.104.05             Driver Version: 535.104.05   CUDA Version: 12.2     |\n",
      "|-----------------------------------------+----------------------+----------------------+\n",
      "| GPU  Name                 Persistence-M | Bus-Id        Disp.A | Volatile Uncorr. ECC |\n",
      "| Fan  Temp   Perf          Pwr:Usage/Cap |         Memory-Usage | GPU-Util  Compute M. |\n",
      "|                                         |                      |               MIG M. |\n",
      "|=========================================+======================+======================|\n",
      "|   0  Tesla T4                       Off | 00000000:00:04.0 Off |                    0 |\n",
      "| N/A   37C    P8              10W /  70W |      0MiB / 15360MiB |      0%      Default |\n",
      "|                                         |                      |                  N/A |\n",
      "+-----------------------------------------+----------------------+----------------------+\n",
      "                                                                                         \n",
      "+---------------------------------------------------------------------------------------+\n",
      "| Processes:                                                                            |\n",
      "|  GPU   GI   CI        PID   Type   Process name                            GPU Memory |\n",
      "|        ID   ID                                                             Usage      |\n",
      "|=======================================================================================|\n",
      "|  No running processes found                                                           |\n",
      "+---------------------------------------------------------------------------------------+\n"
     ]
    }
   ],
   "source": [
    "!nvidia-smi"
   ]
  },
  {
   "cell_type": "code",
   "execution_count": 4,
   "metadata": {
    "colab": {
     "base_uri": "https://localhost:8080/"
    },
    "id": "Wdls80zPwlRv",
    "outputId": "61be45f2-c15a-4ca5-81dd-e8bbb61cb980"
   },
   "outputs": [
    {
     "data": {
      "text/plain": [
       "True"
      ]
     },
     "execution_count": 4,
     "metadata": {},
     "output_type": "execute_result"
    }
   ],
   "source": [
    "#check for gpu\n",
    "import torch\n",
    "torch.cuda.is_available()"
   ]
  },
  {
   "cell_type": "code",
   "execution_count": 7,
   "metadata": {
    "id": "Sez8hxU4xB3u"
   },
   "outputs": [],
   "source": [
    " #setup device agnostic code\n",
    " device=\"cuda\" if torch.cuda.is_available() else \"cpu\""
   ]
  },
  {
   "cell_type": "code",
   "execution_count": 10,
   "metadata": {
    "colab": {
     "base_uri": "https://localhost:8080/"
    },
    "id": "YyeV3xunxRqM",
    "outputId": "39f05bd0-3ab6-4619-c40b-5856f49ced4a"
   },
   "outputs": [
    {
     "name": "stdout",
     "output_type": "stream",
     "text": [
      "cuda\n"
     ]
    },
    {
     "data": {
      "text/plain": [
       "1"
      ]
     },
     "execution_count": 10,
     "metadata": {},
     "output_type": "execute_result"
    }
   ],
   "source": [
    "print(device)\n",
    "pytorch\n",
    "torch.cuda.device_count()"
   ]
  },
  {
   "cell_type": "markdown",
   "metadata": {
    "id": "Ix1396zxzkvz"
   },
   "source": [
    "## putting tensors on gpu"
   ]
  },
  {
   "cell_type": "code",
   "execution_count": 11,
   "metadata": {
    "colab": {
     "base_uri": "https://localhost:8080/"
    },
    "id": "AASvmnqNxfHV",
    "outputId": "1b14cc21-9b0c-46ea-8165-6fda8f4e5b84"
   },
   "outputs": [
    {
     "name": "stdout",
     "output_type": "stream",
     "text": [
      "tensor([1, 2, 3]) cpu\n"
     ]
    }
   ],
   "source": [
    "\n",
    "ten=torch.tensor([1,2,3],device=\"cpu\")\n",
    "print(ten,ten.device)\n"
   ]
  },
  {
   "cell_type": "code",
   "execution_count": 12,
   "metadata": {
    "colab": {
     "base_uri": "https://localhost:8080/"
    },
    "id": "r-BIZ04GzgI9",
    "outputId": "28795d6d-daad-4ffe-a2d6-142556439140"
   },
   "outputs": [
    {
     "data": {
      "text/plain": [
       "device(type='cuda', index=0)"
      ]
     },
     "execution_count": 12,
     "metadata": {},
     "output_type": "execute_result"
    }
   ],
   "source": [
    "ten_gp=ten.to(device)\n",
    "ten_gp.device"
   ]
  },
  {
   "cell_type": "code",
   "execution_count": 13,
   "metadata": {
    "colab": {
     "base_uri": "https://localhost:8080/",
     "height": 176
    },
    "id": "dv1uyoxPz2yF",
    "outputId": "7d802180-ace9-42c7-fc3b-675da590f44d"
   },
   "outputs": [
    {
     "ename": "TypeError",
     "evalue": "can't convert cuda:0 device type tensor to numpy. Use Tensor.cpu() to copy the tensor to host memory first.",
     "output_type": "error",
     "traceback": [
      "\u001b[0;31m---------------------------------------------------------------------------\u001b[0m",
      "\u001b[0;31mTypeError\u001b[0m                                 Traceback (most recent call last)",
      "\u001b[0;32m<ipython-input-13-81d163434645>\u001b[0m in \u001b[0;36m<cell line: 2>\u001b[0;34m()\u001b[0m\n\u001b[1;32m      1\u001b[0m \u001b[0;31m# moving back to cpu\u001b[0m\u001b[0;34m\u001b[0m\u001b[0;34m\u001b[0m\u001b[0m\n\u001b[0;32m----> 2\u001b[0;31m \u001b[0mten_gp\u001b[0m\u001b[0;34m.\u001b[0m\u001b[0mnumpy\u001b[0m\u001b[0;34m(\u001b[0m\u001b[0;34m)\u001b[0m\u001b[0;34m\u001b[0m\u001b[0;34m\u001b[0m\u001b[0m\n\u001b[0m",
      "\u001b[0;31mTypeError\u001b[0m: can't convert cuda:0 device type tensor to numpy. Use Tensor.cpu() to copy the tensor to host memory first."
     ]
    }
   ],
   "source": [
    "# moving back to cpu\n",
    "ten_gp.numpy()\n",
    "#cant convert to numpy if on gpu"
   ]
  },
  {
   "cell_type": "code",
   "execution_count": 14,
   "metadata": {
    "colab": {
     "base_uri": "https://localhost:8080/"
    },
    "id": "YCuJ0wvm0KMH",
    "outputId": "696b71e2-c495-4833-e7d0-161f77faceca"
   },
   "outputs": [
    {
     "data": {
      "text/plain": [
       "array([1, 2, 3])"
      ]
     },
     "execution_count": 14,
     "metadata": {},
     "output_type": "execute_result"
    }
   ],
   "source": [
    "ten_cp=ten_gp.cpu().numpy()\n",
    "ten_cp"
   ]
  },
  {
   "cell_type": "code",
   "execution_count": null,
   "metadata": {
    "id": "irlh8Nmm0ckZ"
   },
   "outputs": [],
   "source": []
  }
 ],
 "metadata": {
  "accelerator": "GPU",
  "colab": {
   "gpuType": "T4",
   "provenance": []
  },
  "kernelspec": {
   "display_name": "Python 3 (ipykernel)",
   "language": "python",
   "name": "python3"
  },
  "language_info": {
   "codemirror_mode": {
    "name": "ipython",
    "version": 3
   },
   "file_extension": ".py",
   "mimetype": "text/x-python",
   "name": "python",
   "nbconvert_exporter": "python",
   "pygments_lexer": "ipython3",
   "version": "3.12.4"
  }
 },
 "nbformat": 4,
 "nbformat_minor": 4
}
