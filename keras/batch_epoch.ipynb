{
 "cells": [
  {
   "cell_type": "markdown",
   "metadata": {},
   "source": [
    "## Gradient Descent Variants\n",
    "\n",
    "There are different ways in which parameters are updated during the training process, depending on the variant of gradient descent used:\n",
    "\n",
    "1. **Batch Gradient Descent**:\n",
    "   - Parameters are updated after processing the **entire dataset** (one pass through all the data).\n",
    "   - Gradient is computed over the entire dataset and parameters are updated once per epoch.\n",
    "\n",
    "2. **Stochastic Gradient Descent (SGD)**:\n",
    "   - Parameters are updated **after each individual data point**.\n",
    "   - Gradient is computed for a single data point and parameters are updated after every training example.\n",
    "\n",
    "3. **Mini-batch Gradient Descent**:\n",
    "   - Parameters are updated **after a subset of the dataset** (a mini-batch).\n",
    "   - Gradient is computed over a mini-batch of data, and parameters are updated after each mini-batch.\n",
    "\n",
    "### Summary:\n",
    "- **After each epoch**: in **Batch Gradient Descent**.\n",
    "- **After each batch**: in **Mini-batch Gradient Descent** and **Stochastic Gradient Descent** (with a batch size of 1).\n"
   ]
  },
  {
   "cell_type": "markdown",
   "metadata": {},
   "source": []
  }
 ],
 "metadata": {
  "language_info": {
   "name": "python"
  }
 },
 "nbformat": 4,
 "nbformat_minor": 2
}
