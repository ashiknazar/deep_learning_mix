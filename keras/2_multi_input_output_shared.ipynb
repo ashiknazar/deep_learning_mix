{
 "cells": [
  {
   "cell_type": "markdown",
   "metadata": {},
   "source": [
    "## Multi-Input Models in Keras"
   ]
  },
  {
   "cell_type": "markdown",
   "metadata": {},
   "source": [
    "- A **multi-input model**is a type of neural network that has more than one input. Each input can be of a different shape, and the model can process these inputs simultaneously to learn from them. Multi-input models are useful when you want to combine data from different sources or modalities, such as images, text, or numerical data.\n",
    "In Keras, multi-input models can be easily built using the Functional API, which allows you to define multiple input layers and then combine or process them in different ways before passing them through subsequent layers."
   ]
  },
  {
   "cell_type": "markdown",
   "metadata": {},
   "source": [
    "- **Why Use Multi-Input Models?**\n",
    "    - **Multiple Data Sources:** When your model needs to process different types of data, such as images and text simultaneously.\n",
    "    - **Combining Features:** When you want to combine different features (e.g., categorical and numerical data) for prediction.\n",
    "    - **Complex Architectures:** When building complex architectures, such as models that require different treatments for different types of inputs."
   ]
  },
  {
   "cell_type": "markdown",
   "metadata": {},
   "source": [
    "### Example of a Multi-Input Model\n",
    "Imagine a scenario where you want to build a model that takes two inputs:\n",
    "\n",
    "1. Numeric data (e.g., features like age, income, etc.)\n",
    "2. Text data (e.g., product descriptions, reviews, etc.)"
   ]
  },
  {
   "cell_type": "markdown",
   "metadata": {},
   "source": [
    "- The idea is to process both types of inputs separately (e.g., using a dense layer for numeric data and an embedding layer followed by LSTM for text data) and then combine the learned representations before making a final prediction."
   ]
  },
  {
   "cell_type": "markdown",
   "metadata": {},
   "source": [
    "```python\n",
    "from keras.models import Model\n",
    "from keras.layers import Input, Dense, Embedding, LSTM, Concatenate\n",
    "from keras.preprocessing.sequence import pad_sequences\n",
    "import numpy as np\n",
    "\n",
    "# Input for numeric data (e.g., age, income)\n",
    "numeric_input = Input(shape=(3,), name='numeric_input')  # 3 features\n",
    "\n",
    "# Input for text data (e.g., product descriptions)\n",
    "text_input = Input(shape=(100,), name='text_input')  # 100 words in the text\n",
    "\n",
    "# Process numeric data (simple dense layer)\n",
    "numeric_processed = Dense(64, activation='relu')(numeric_input)\n",
    "\n",
    "# Process text data (embedding + LSTM)\n",
    "text_embedded = Embedding(input_dim=10000, output_dim=64, input_length=100)(text_input)\n",
    "text_lstm = LSTM(64)(text_embedded)\n",
    "\n",
    "# Combine the processed outputs from both inputs\n",
    "combined = Concatenate()([numeric_processed, text_lstm])\n",
    "\n",
    "# Output layer\n",
    "output = Dense(1, activation='sigmoid')(combined)\n",
    "\n",
    "# Define the model\n",
    "model = Model(inputs=[numeric_input, text_input], outputs=output)\n",
    "\n",
    "# Summarize the model\n",
    "model.summary()\n",
    "```"
   ]
  },
  {
   "cell_type": "markdown",
   "metadata": {},
   "source": [
    "- **How to Train the Model**\n",
    "- When training a multi-input model, you provide both inputs as a list or dictionary. Here's how you would compile and train this model:"
   ]
  },
  {
   "cell_type": "markdown",
   "metadata": {},
   "source": [
    "```python \n",
    "# Example data (random values for illustration purposes)\n",
    "numeric_data = np.random.rand(1000, 3)  # 1000 samples, 3 features\n",
    "text_data = np.random.randint(0, 10000, size=(1000, 100))  # 1000 samples, each with 100 words\n",
    "\n",
    "# Labels (binary classification)\n",
    "labels = np.random.randint(0, 2, size=(1000, 1))\n",
    "\n",
    "# Compile the model\n",
    "model.compile(optimizer='adam', loss='binary_crossentropy', metrics=['accuracy'])\n",
    "\n",
    "# Train the model\n",
    "model.fit([numeric_data, text_data], labels, epochs=10, batch_size=32)\n",
    "```"
   ]
  },
  {
   "cell_type": "markdown",
   "metadata": {},
   "source": [
    "- **Multiple Inputs:** Each input type (e.g., numeric data, text data) is processed through its own set of layers.\n",
    "- **Concatenation:** After processing the inputs independently, their learned representations are combined (using Concatenate).\n",
    "- **Final Prediction:** The combined features are passed to a final output layer for prediction."
   ]
  },
  {
   "cell_type": "markdown",
   "metadata": {},
   "source": [
    "___"
   ]
  },
  {
   "cell_type": "markdown",
   "metadata": {},
   "source": [
    "## Multiple-Output Models in Keras"
   ]
  },
  {
   "cell_type": "markdown",
   "metadata": {},
   "source": [
    "- A **multiple-output model** is a type of neural network that has more than one output. This type of model is useful when you need to predict multiple targets from a single set of inputs. Each output can have different shapes or even different types (e.g., classification and regression outputs together)."
   ]
  },
  {
   "cell_type": "markdown",
   "metadata": {},
   "source": [
    "- In Keras, you can easily build a multiple-output model using the Functional API. You define the **shared input(s)** and then specify multiple outputs, which can each be processed independently or together depending on the task."
   ]
  },
  {
   "cell_type": "markdown",
   "metadata": {},
   "source": [
    "### Why Use Multiple-Output Models?"
   ]
  },
  {
   "cell_type": "markdown",
   "metadata": {},
   "source": [
    "- **Multi-task learning:** When you need to solve different but related tasks simultaneously. For example, predicting both the price and category of a product from the same input features."
   ]
  },
  {
   "cell_type": "markdown",
   "metadata": {},
   "source": [
    "- **Complex architectures:** For models that need to make different predictions based on the same input data, such as predicting both classification labels and regression values."
   ]
  },
  {
   "cell_type": "markdown",
   "metadata": {},
   "source": [
    "## Example of a Multiple-Output Model\n",
    "Let's say we want to build a model that takes input data and predicts:\n",
    "\n",
    "1. A classification output (e.g., the category of a product).\n",
    "2. A regression output (e.g., the price of the product)."
   ]
  },
  {
   "cell_type": "markdown",
   "metadata": {},
   "source": [
    "- We can use a shared base network (e.g., dense layers) to extract features, and then have separate branches for classification and regression."
   ]
  },
  {
   "cell_type": "markdown",
   "metadata": {},
   "source": [
    "```python\n",
    "from keras.models import Model\n",
    "from keras.layers import Input, Dense\n",
    "\n",
    "# Input layer\n",
    "input_data = Input(shape=(10,))  # Input with 10 features\n",
    "\n",
    "# Shared layers\n",
    "x = Dense(64, activation='relu')(input_data)\n",
    "x = Dense(32, activation='relu')(x)\n",
    "\n",
    "# First output: Classification (binary)\n",
    "classification_output = Dense(1, activation='sigmoid', name='classification_output')(x)\n",
    "\n",
    "# Second output: Regression (continuous)\n",
    "regression_output = Dense(1, activation='linear', name='regression_output')(x)\n",
    "\n",
    "# Define the model\n",
    "model = Model(inputs=input_data, outputs=[classification_output, regression_output])\n",
    "\n",
    "# Summarize the model\n",
    "model.summary()\n"
   ]
  },
  {
   "cell_type": "markdown",
   "metadata": {},
   "source": [
    "### How to Train the Model"
   ]
  },
  {
   "cell_type": "markdown",
   "metadata": {},
   "source": [
    "```python \n",
    "# Example data (random values for illustration purposes)\n",
    "input_data = np.random.rand(1000, 10)  # 1000 samples, 10 features\n",
    "classification_labels = np.random.randint(0, 2, size=(1000, 1))  # 1000 binary labels\n",
    "regression_labels = np.random.rand(1000, 1)  # 1000 regression labels (continuous)\n",
    "\n",
    "# Compile the model\n",
    "model.compile(optimizer='adam', \n",
    "              loss={'classification_output': 'binary_crossentropy', \n",
    "                    'regression_output': 'mean_squared_error'},\n",
    "              metrics={'classification_output': 'accuracy', \n",
    "                       'regression_output': 'mae'})\n",
    "\n",
    "# Train the model\n",
    "model.fit(input_data, \n",
    "          {'classification_output': classification_labels, \n",
    "           'regression_output': regression_labels}, \n",
    "          epochs=10, \n",
    "          batch_size=32)\n"
   ]
  },
  {
   "cell_type": "markdown",
   "metadata": {},
   "source": [
    "___"
   ]
  },
  {
   "cell_type": "markdown",
   "metadata": {},
   "source": []
  }
 ],
 "metadata": {
  "language_info": {
   "name": "python"
  }
 },
 "nbformat": 4,
 "nbformat_minor": 2
}
