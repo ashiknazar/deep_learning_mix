{
 "cells": [
  {
   "cell_type": "markdown",
   "metadata": {},
   "source": [
    "# 1.key components of keras\n",
    "- models\n",
    "   - **Sequential API**: Simple, linear stack of layers.\n",
    "   - **Functional API**: More flexible, allowing for complex architectures like multi-input/output models.\n",
    "   - **Model Subclassing**: Custom models for advanced users.\n",
    "- Layers: Fundamental building blocks (e.g., Dense, Conv2D, LSTM, etc.).\n",
    "\n",
    "- Optimizers: Algorithms to update model weights (e.g., SGD, Adam).\n",
    "\n",
    "- Loss Functions: Evaluate the model's performance (e.g., Mean Squared Error, Categorical Crossentropy).\n",
    "\n",
    "- Metrics: Track performance during training (e.g., accuracy).\n",
    "   "
   ]
  },
  {
   "cell_type": "markdown",
   "metadata": {},
   "source": [
    "# 2. Sequential vs Functional api"
   ]
  },
  {
   "cell_type": "markdown",
   "metadata": {},
   "source": [
    "### Sequential API\n",
    "- **Definition**: The Sequential API is a simple and straightforward way to define a model where layers are stacked one after the other in a linear fashion.\n",
    "- **Use Case**: It's ideal for models that are organized in a linear stack of layers, where each layer has one input and one output.\n",
    "- **Syntax**: You define the model by adding layers to the model object in a step-by-step manner."
   ]
  },
  {
   "cell_type": "markdown",
   "metadata": {},
   "source": [
    "```python\n",
    "from keras.models import Sequential\n",
    "from keras.layers import Dense\n",
    "\n",
    "model = Sequential()\n",
    "model.add(Dense(64, input_dim=8, activation='relu'))\n",
    "model.add(Dense(32, activation='relu'))\n",
    "model.add(Dense(1, activation='sigmoid'))\n",
    "```"
   ]
  },
  {
   "cell_type": "markdown",
   "metadata": {},
   "source": [
    "- **Pros**:\n",
    "Easy to use and understand.\n",
    "Suitable for simple, linear architectures (e.g., plain feedforward neural networks).\n",
    "- **Cons**:\n",
    "Limited flexibility; you cannot create complex models (e.g., models with shared layers or multiple inputs/outputs)."
   ]
  },
  {
   "cell_type": "markdown",
   "metadata": {},
   "source": [
    "___"
   ]
  },
  {
   "cell_type": "markdown",
   "metadata": {},
   "source": [
    "- **What is Linear Architecture?**\n",
    "A linear architecture refers to a type of neural network structure where the layers are arranged sequentially, one after another, with each layer feeding its output into the next layer in a linear (unidirectional) fashion. The connections between layers are straightforward, with no complex or branching structures.\n",
    "In a linear architecture, the flow of data follows a single path, with no need for layer connections that skip or loop back, unlike more complex architectures like residual networks or networks with multiple inputs/outputs."
   ]
  },
  {
   "cell_type": "markdown",
   "metadata": {},
   "source": [
    "- **Other Types of Architectures (Not Linear)**\n",
    "- **1.Functional API**: The functional API allows for more complex models, such as multi-input or multi-output models, shared layers, and models with non-linear layer connections. It gives more flexibility than the Sequential model.\n"
   ]
  },
  {
   "cell_type": "markdown",
   "metadata": {},
   "source": [
    "- **2.ResNet (Residual Networks)**: In residual networks, shortcuts or skip connections are used, which allow the data to bypass certain layers and be directly added to later layers. This helps with training very deep networks."
   ]
  },
  {
   "cell_type": "markdown",
   "metadata": {},
   "source": [
    "- **3.Inception Networks:** Inception networks use parallel convolutional layers with different filter sizes and then merge their outputs. This architecture helps capture multi-scale features efficiently"
   ]
  },
  {
   "cell_type": "markdown",
   "metadata": {},
   "source": [
    "- **4.Recurrent Neural Networks (RNNs)**: RNNs are designed for sequential data where the output depends not only on the current input but also on previous computations. Unlike linear architectures, RNNs have loops where data can flow in cycles."
   ]
  },
  {
   "cell_type": "markdown",
   "metadata": {},
   "source": [
    "- **4.Generative Adversarial Networks (GANs)**: GANs consist of two models: a generator and a discriminator. These two networks are trained simultaneously with opposing goals, which is a form of non-linear architecture."
   ]
  },
  {
   "cell_type": "markdown",
   "metadata": {},
   "source": [
    "___"
   ]
  },
  {
   "cell_type": "markdown",
   "metadata": {},
   "source": [
    "## 3. Functional API\n",
    "- **Definition:** The Functional API allows for more flexibility and is used to create complex models, including models with multiple inputs and outputs, shared layers, non-linear connections between layers, and models that branch.\n"
   ]
  },
  {
   "cell_type": "markdown",
   "metadata": {},
   "source": [
    "- **Use Case:** It's suitable for more complex architectures, such as multi-input, multi-output models, models with shared layers, or models that involve operations other than simple stacking.\n",
    "- **Syntax:** The Functional API is based on the concept of creating layers as functions and passing data (tensors) through those layers."
   ]
  },
  {
   "cell_type": "markdown",
   "metadata": {},
   "source": [
    "```python\n",
    "from keras.models import Model\n",
    "from keras.layers import Input, Dense\n",
    "\n",
    "# Define inputs\n",
    "input = Input(shape=(8,))\n",
    "\n",
    "# Define layers\n",
    "x = Dense(64, activation='relu')(input)\n",
    "x = Dense(32, activation='relu')(x)\n",
    "output = Dense(1, activation='sigmoid')(x)\n",
    "\n",
    "# Create the model\n",
    "model = Model(inputs=input, outputs=output)\n",
    "```"
   ]
  },
  {
   "cell_type": "markdown",
   "metadata": {},
   "source": [
    "| **Aspect**           | **Sequential API**                           | **Functional API**                         |\n",
    "|----------------------|----------------------------------------------|--------------------------------------------|\n",
    "| **Model Type**       | Linear stack of layers                      | Flexible, with more complex connections    |\n",
    "| **Use Case**         | Simple, sequential models (e.g., plain MLPs) | Complex models (e.g., multi-input, multi-output, shared layers) |\n",
    "| **Layer Connections**| One input, one output per layer             | Layers can have multiple inputs and outputs |\n",
    "| **Syntax**           | Simpler, layer-by-layer addition            | More flexible, requires explicit input/output definition |\n",
    "| **Complexity**       | Easier for beginners                        | More powerful, suited for advanced models |\n",
    "| **Flexibility**      | Limited to simple architectures             | Supports complex architectures and topologies |\n"
   ]
  },
  {
   "cell_type": "markdown",
   "metadata": {},
   "source": []
  }
 ],
 "metadata": {
  "language_info": {
   "name": "python"
  }
 },
 "nbformat": 4,
 "nbformat_minor": 2
}
