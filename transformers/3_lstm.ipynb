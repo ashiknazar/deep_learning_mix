{
 "cells": [
  {
   "cell_type": "markdown",
   "metadata": {},
   "source": [
    "## LSTM (long short term memory)"
   ]
  },
  {
   "cell_type": "markdown",
   "metadata": {},
   "source": [
    "![LSTM](images/lstm.png)"
   ]
  },
  {
   "cell_type": "markdown",
   "metadata": {},
   "source": [
    "- has a branch that allows past information to skip a lot of processing of current cell  -> this allows memory to be retained for long sequences\n",
    "- good for a length of 100 words not 1000\n",
    "- rnn are slow lstm are even slower\n",
    "- input data need to be passed sequentially or serially\n",
    "- these sequential flow doesnt make use of gpus (parallel processing)\n",
    "\n",
    "\n",
    "\n",
    "\n"
   ]
  },
  {
   "cell_type": "markdown",
   "metadata": {},
   "source": [
    "[Next Page transformers](4_transformers.ipynb)"
   ]
  },
  {
   "cell_type": "markdown",
   "metadata": {},
   "source": []
  }
 ],
 "metadata": {
  "language_info": {
   "name": "python"
  }
 },
 "nbformat": 4,
 "nbformat_minor": 2
}
