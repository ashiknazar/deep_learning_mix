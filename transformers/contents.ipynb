{
 "cells": [
  {
   "cell_type": "markdown",
   "metadata": {},
   "source": [
    "1. Transformers overview\n",
    "2. Self Attention\n",
    "3. Multihead Attention\n",
    "4. Positional Encoding\n",
    "5. Architecture Deep Dive\n",
    "6. Encoder code\n",
    "7. Decoder Code\n",
    "8. Sentence Tokenization \n",
    "9. Putting it all together\n",
    "10. Training and inference \n"
   ]
  },
  {
   "cell_type": "markdown",
   "metadata": {},
   "source": [
    "[start page feedforward network intro](1_fnn.ipynb)\n"
   ]
  },
  {
   "cell_type": "markdown",
   "metadata": {},
   "source": []
  }
 ],
 "metadata": {
  "language_info": {
   "name": "python"
  }
 },
 "nbformat": 4,
 "nbformat_minor": 2
}
