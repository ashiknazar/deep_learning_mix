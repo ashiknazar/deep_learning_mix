{
 "cells": [
  {
   "cell_type": "markdown",
   "metadata": {},
   "source": [
    "ENGLISH TO KANNADA\n",
    "<br>\\<START\\> (TOKEN)\n",
    "<br>\n",
    "my name is ajai  -> "
   ]
  },
  {
   "cell_type": "markdown",
   "metadata": {},
   "source": [
    "- size of each vector is 512 here "
   ]
  },
  {
   "cell_type": "markdown",
   "metadata": {},
   "source": [
    "- every single word that is input to a transformer is going to have 3 vectors\n",
    "  - Q(query vector - what am i looking for)\n",
    "  - K(key vector - what can i offer)\n",
    "  - V(value vector - what i actually offer)\n"
   ]
  },
  {
   "cell_type": "code",
   "execution_count": 1,
   "metadata": {},
   "outputs": [],
   "source": [
    "import numpy as np\n",
    "import math"
   ]
  },
  {
   "cell_type": "code",
   "execution_count": null,
   "metadata": {},
   "outputs": [],
   "source": [
    "#L length of sequence (my,name ,is,ajay -> 4)\n",
    "L,d_k,d_v=4,8,8\n",
    "q=np.random.randn(L,d_k)\n",
    "k=np.random.randn(L,d_k)\n",
    "v=np.random.randn(L,d_v)"
   ]
  },
  {
   "cell_type": "code",
   "execution_count": null,
   "metadata": {},
   "outputs": [
    {
     "name": "stdout",
     "output_type": "stream",
     "text": [
      "[[ 0.57135315  0.33064359  0.5175912   0.87398782 -0.53418605 -0.97057472\n",
      "   1.51067237  2.05267885]\n",
      " [-0.71966133 -0.85412419  0.84352748 -0.77501053 -0.94391776 -1.72725498\n",
      "   0.08059555  0.10277376]\n",
      " [-1.45278931 -2.72963962 -1.49058949 -0.18703403 -1.24388027  0.59875073\n",
      "   0.91842694  1.19084502]\n",
      " [-0.33037283  0.13825856 -0.98553376 -1.31144781  0.87185966  0.55481144\n",
      "   0.59259727  0.50927923]]\n",
      "my [ 0.57135315  0.33064359  0.5175912   0.87398782 -0.53418605 -0.97057472\n",
      "  1.51067237  2.05267885]\n"
     ]
    }
   ],
   "source": [
    "print(k)\n",
    "#print(\"my\",k[0])\n",
    "#print(\"name\",k[1])\n",
    "#print(\"is\",k[2])\n",
    "#print(\"ajay\",k[3])"
   ]
  },
  {
   "cell_type": "markdown",
   "metadata": {},
   "source": [
    "#### self attention \n",
    "![self_attention](images/self_att.png)"
   ]
  },
  {
   "cell_type": "code",
   "execution_count": null,
   "metadata": {},
   "outputs": [],
   "source": []
  }
 ],
 "metadata": {
  "kernelspec": {
   "display_name": "base",
   "language": "python",
   "name": "python3"
  },
  "language_info": {
   "codemirror_mode": {
    "name": "ipython",
    "version": 3
   },
   "file_extension": ".py",
   "mimetype": "text/x-python",
   "name": "python",
   "nbconvert_exporter": "python",
   "pygments_lexer": "ipython3",
   "version": "3.12.4"
  }
 },
 "nbformat": 4,
 "nbformat_minor": 2
}
